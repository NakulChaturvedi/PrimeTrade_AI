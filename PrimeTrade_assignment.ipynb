{
  "nbformat": 4,
  "nbformat_minor": 0,
  "metadata": {
    "colab": {
      "provenance": [],
      "authorship_tag": "ABX9TyPeTe37OUmBbk0Tk3Mq+IoJ",
      "include_colab_link": true
    },
    "kernelspec": {
      "name": "python3",
      "display_name": "Python 3"
    },
    "language_info": {
      "name": "python"
    }
  },
  "cells": [
    {
      "cell_type": "markdown",
      "metadata": {
        "id": "view-in-github",
        "colab_type": "text"
      },
      "source": [
        "<a href=\"https://colab.research.google.com/github/NakulChaturvedi/PrimeTrade_AI/blob/main/PrimeTrade_assignment.ipynb\" target=\"_parent\"><img src=\"https://colab.research.google.com/assets/colab-badge.svg\" alt=\"Open In Colab\"/></a>"
      ]
    },
    {
      "cell_type": "code",
      "source": [
        "from google.colab import auth\n",
        "import gspread\n",
        "from google.auth import default\n",
        "import requests\n",
        "import time\n",
        "\n",
        "# Authenticate the user\n",
        "auth.authenticate_user()\n",
        "\n",
        "creds, _ = default()\n",
        "client = gspread.authorize(creds)\n",
        "\n",
        "# Open the Google Sheet\n",
        "sheet = client.open(\"Top_50_Cryptocurrencies\").sheet1\n",
        "\n",
        "# Fetch data from the API\n",
        "def fetch_crypto_data():\n",
        "    url = \"https://api.coingecko.com/api/v3/coins/markets\"\n",
        "    params = {\n",
        "        \"vs_currency\": \"usd\",\n",
        "        \"order\": \"market_cap_desc\",\n",
        "        \"per_page\": 50,\n",
        "        \"page\": 1,\n",
        "        \"sparkline\": False\n",
        "    }\n",
        "    response = requests.get(url, params=params)\n",
        "    if response.status_code == 200:\n",
        "        data = response.json()\n",
        "        # Extract relevant fields\n",
        "        rows = [\n",
        "            [\n",
        "                coin['name'],\n",
        "                coin['symbol'],\n",
        "                coin['current_price'],\n",
        "                coin['market_cap'],\n",
        "                coin['total_volume'],\n",
        "                coin['price_change_percentage_24h']\n",
        "            ]\n",
        "            for coin in data\n",
        "        ]\n",
        "        return rows\n",
        "    else:\n",
        "        print(f\"Error: {response.status_code}\")\n",
        "        return []\n",
        "\n",
        "# Write data to the sheet\n",
        "def update_sheet():\n",
        "    sheet.clear()\n",
        "\n",
        "\n",
        "    headers = [\"Name\", \"Symbol\", \"Price (USD)\", \"Market Cap\", \"24H Volume\", \"24H Change (%)\"]\n",
        "    sheet.append_row(headers)\n",
        "\n",
        "    # Fetch and append data\n",
        "    rows = fetch_crypto_data()\n",
        "    for row in rows:\n",
        "        sheet.append_row(row)\n",
        "\n",
        "# Call the function once to verify functionality\n",
        "update_sheet()\n",
        "print(\"Initial update complete.\")\n",
        "\n",
        "# Automate updates every 5 minutes\n",
        "try:\n",
        "    while True:\n",
        "        update_sheet()\n",
        "        print(\"Sheet updated at\", time.ctime())\n",
        "        time.sleep(300)  # Wait for 5 minutes\n",
        "except KeyboardInterrupt:\n",
        "    print(\"Stopped by user.\")\n"
      ],
      "metadata": {
        "colab": {
          "base_uri": "https://localhost:8080/"
        },
        "id": "oH8tUghW5TC2",
        "outputId": "bce323c6-76c4-46b1-8301-d75caf319e3b"
      },
      "execution_count": null,
      "outputs": [
        {
          "output_type": "stream",
          "name": "stdout",
          "text": [
            "Initial update complete.\n",
            "Sheet updated at Fri Nov 22 05:27:21 2024\n",
            "Sheet updated at Fri Nov 22 05:32:27 2024\n",
            "Sheet updated at Fri Nov 22 05:37:32 2024\n",
            "Sheet updated at Fri Nov 22 05:42:37 2024\n"
          ]
        }
      ]
    }
  ]
}